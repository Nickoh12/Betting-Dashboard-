{
 "cells": [
  {
   "cell_type": "markdown",
   "metadata": {},
   "source": [
    "# Obtain Results from Football-Data.co.uk and 538"
   ]
  },
  {
   "cell_type": "code",
   "execution_count": 75,
   "metadata": {},
   "outputs": [],
   "source": [
    "import urllib \n",
    "import datetime \n",
    "from datetime import timedelta\n",
    "\n",
    "URL= 'https://www.football-data.co.uk/new/Latest_Results.csv'\n",
    "URL2= 'https://www.football-data.co.uk/mmz4281/2021/Latest_Results.csv'\n",
    "URL3= 'https://projects.fivethirtyeight.com/soccer-api/club/spi_matches_latest.csv'\n",
    "\n",
    "for i,thing in enumerate([URL, URL2, URL3]):\n",
    "    urllib.request.urlretrieve(thing, \"test{num}.csv\".format(num= i+1)) "
   ]
  },
  {
   "cell_type": "code",
   "execution_count": 76,
   "metadata": {},
   "outputs": [
    {
     "ename": "NameError",
     "evalue": "name 'group2' is not defined",
     "output_type": "error",
     "traceback": [
      "\u001b[1;31m---------------------------------------------------------------------------\u001b[0m",
      "\u001b[1;31mNameError\u001b[0m                                 Traceback (most recent call last)",
      "\u001b[1;32m<ipython-input-76-e97dda454c00>\u001b[0m in \u001b[0;36m<module>\u001b[1;34m\u001b[0m\n\u001b[0;32m     21\u001b[0m \u001b[0mergebnisse\u001b[0m\u001b[1;33m=\u001b[0m \u001b[0mhaupt\u001b[0m\u001b[1;33m.\u001b[0m\u001b[0mappend\u001b[0m\u001b[1;33m(\u001b[0m\u001b[0mrest\u001b[0m\u001b[1;33m)\u001b[0m\u001b[1;33m.\u001b[0m\u001b[0msort_values\u001b[0m\u001b[1;33m(\u001b[0m\u001b[1;34m'date'\u001b[0m\u001b[1;33m)\u001b[0m\u001b[1;33m.\u001b[0m\u001b[0mreset_index\u001b[0m\u001b[1;33m(\u001b[0m\u001b[0mdrop\u001b[0m\u001b[1;33m=\u001b[0m \u001b[1;32mTrue\u001b[0m\u001b[1;33m)\u001b[0m\u001b[1;33m\u001b[0m\u001b[1;33m\u001b[0m\u001b[0m\n\u001b[0;32m     22\u001b[0m \u001b[1;33m\u001b[0m\u001b[0m\n\u001b[1;32m---> 23\u001b[1;33m \u001b[1;32mfor\u001b[0m \u001b[0mi\u001b[0m \u001b[1;32min\u001b[0m \u001b[0mrange\u001b[0m\u001b[1;33m(\u001b[0m\u001b[1;36m0\u001b[0m\u001b[1;33m,\u001b[0m \u001b[0mlen\u001b[0m\u001b[1;33m(\u001b[0m\u001b[0mgroup2\u001b[0m\u001b[1;33m)\u001b[0m\u001b[1;33m)\u001b[0m\u001b[1;33m:\u001b[0m\u001b[1;33m\u001b[0m\u001b[1;33m\u001b[0m\u001b[0m\n\u001b[0m\u001b[0;32m     24\u001b[0m     \u001b[1;32mfor\u001b[0m \u001b[0mj\u001b[0m \u001b[1;32min\u001b[0m \u001b[0mrange\u001b[0m \u001b[1;33m(\u001b[0m\u001b[1;36m0\u001b[0m\u001b[1;33m,\u001b[0m\u001b[0mlen\u001b[0m\u001b[1;33m(\u001b[0m\u001b[0mergebnisse\u001b[0m\u001b[1;33m)\u001b[0m\u001b[1;33m)\u001b[0m\u001b[1;33m:\u001b[0m\u001b[1;33m\u001b[0m\u001b[1;33m\u001b[0m\u001b[0m\n\u001b[0;32m     25\u001b[0m         \u001b[1;32mif\u001b[0m \u001b[1;33m(\u001b[0m\u001b[0mgroup2\u001b[0m\u001b[1;33m[\u001b[0m\u001b[1;34m'date'\u001b[0m\u001b[1;33m]\u001b[0m\u001b[1;33m[\u001b[0m\u001b[0mi\u001b[0m\u001b[1;33m]\u001b[0m\u001b[1;33m==\u001b[0m \u001b[0mergebnisse\u001b[0m\u001b[1;33m[\u001b[0m\u001b[1;34m'date'\u001b[0m\u001b[1;33m]\u001b[0m\u001b[1;33m[\u001b[0m\u001b[0mj\u001b[0m\u001b[1;33m]\u001b[0m\u001b[1;33m)\u001b[0m\u001b[1;33m:\u001b[0m\u001b[1;33m\u001b[0m\u001b[1;33m\u001b[0m\u001b[0m\n",
      "\u001b[1;31mNameError\u001b[0m: name 'group2' is not defined"
     ]
    }
   ],
   "source": [
    "lang= pd.read_csv('test1.csv',encoding='cp1252')\n",
    "kurz= pd.read_csv('test2.csv',encoding='cp1252')\n",
    "\n",
    "lang.columns= lang.columns.str.lower()\n",
    "lang.date= pd.to_datetime(lang.date, format= \"%d/%m/%Y\")\n",
    "lang['date']= pd.to_datetime(lang.date.astype(str)+' '+lang.time.astype(str))+ timedelta(hours= 1)\n",
    "lang.sort_values('date')\n",
    "\n",
    "kurz.columns= kurz.columns.str.lower()\n",
    "kurz.date= pd.to_datetime(kurz.date, format= \"%d/%m/%Y\")\n",
    "kurz['date']= pd.to_datetime(kurz.date.astype(str)+' '+kurz.time.astype(str))+timedelta(hours= 1)\n",
    "kurz= kurz.rename(columns= {'hometeam':'home_team', 'awayteam':'away_team'})\n",
    "lang= lang.rename(columns= {'home':'home_team', 'away':'away_team'})\n",
    "\n",
    "haupt= kurz[['date','home_team','away_team','fthg','ftag']]\n",
    "rest= lang[['date','home_team','away_team','ag','hg']]\n",
    "\n",
    "haupt.columns= ['date','home_team','away_team','hg','ag']\n",
    "rest.columns= ['date','home_team','away_team','hg','ag']\n",
    "\n",
    "ergebnisse= haupt.append(rest).sort_values('date').reset_index(drop= True)\n",
    "\n",
    "for i in range(0, len(group2)):\n",
    "    for j in range (0,len(ergebnisse)):\n",
    "        if (group2['date'][i]== ergebnisse['date'][j]):\n",
    "            if (group2['home_team'][i] in ergebnisse['home_team'][j])\\\n",
    "            | (ergebnisse['home_team'][j] in group2['home_team'][i])\\\n",
    "            | (ergebnisse['away_team'][j] in group2['away_team'][i])\\\n",
    "            | (group2['away_team'][i] in ergebnisse['away_team'][j]):\n",
    "                ergebnisse['home_team'][j]= group2['home_team'][i]\n",
    "                ergebnisse['away_team'][j]= group2['away_team'][i]\n",
    "                \n",
    "zusammen= group2.merge(ergebnisse, on= ['date','home_team', 'away_team']).drop_duplicates(subset= ['home_team', 'away_team']).reset_index(drop= True)\n"
   ]
  }
 ],
 "metadata": {
  "kernelspec": {
   "display_name": "Python 3",
   "language": "python",
   "name": "python3"
  },
  "language_info": {
   "codemirror_mode": {
    "name": "ipython",
    "version": 3
   },
   "file_extension": ".py",
   "mimetype": "text/x-python",
   "name": "python",
   "nbconvert_exporter": "python",
   "pygments_lexer": "ipython3",
   "version": "3.8.5"
  }
 },
 "nbformat": 4,
 "nbformat_minor": 4
}
